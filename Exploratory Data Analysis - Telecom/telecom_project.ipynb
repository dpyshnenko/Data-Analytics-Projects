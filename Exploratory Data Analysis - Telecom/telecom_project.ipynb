{
 "cells": [
  {
   "cell_type": "markdown",
   "metadata": {},
   "source": [
    "# Exploratory Data Analysis (EDA) for the telecommunication company"
   ]
  },
  {
   "cell_type": "markdown",
   "metadata": {},
   "source": [
    "## **Project goals**\n",
    "\n",
    "- Evaluate customer profile on two prepaid plans (revenue, number of calls/messages/etc).\n",
    "- Analyze clients' behaviour to determine the best prepaid plan. \n",
    "- Formulate and test hypotheses.\n",
    "- Form recommendations for the advertising budget."
   ]
  },
  {
   "cell_type": "markdown",
   "metadata": {},
   "source": [
    "## 1. Data Description"
   ]
  },
  {
   "cell_type": "code",
   "execution_count": 39,
   "metadata": {},
   "outputs": [],
   "source": [
    "# Import libraries numpy, pandas, matplotlib, seaborn, scipy\n",
    "import numpy as np\n",
    "import pandas as pd\n",
    "from matplotlib import pyplot as plt\n",
    "import seaborn as sns; sns.set()\n",
    "from scipy import stats as st"
   ]
  },
  {
   "cell_type": "markdown",
   "metadata": {},
   "source": [
    "Let's upload files with data about the clients of the telecom operator"
   ]
  },
  {
   "cell_type": "code",
   "execution_count": 40,
   "metadata": {},
   "outputs": [],
   "source": [
    "# Import csv files with data from the external resource\n",
    "calls = pd.read_csv('calls.csv')\n",
    "internet = pd.read_csv('internet.csv')\n",
    "messages = pd.read_csv('messages.csv')\n",
    "plans = pd.read_csv('plans.csv')\n",
    "users = pd.read_csv('users.csv')"
   ]
  },
  {
   "cell_type": "markdown",
   "metadata": {},
   "source": [
    "### Table - Calls"
   ]
  },
  {
   "cell_type": "code",
   "execution_count": 41,
   "metadata": {},
   "outputs": [
    {
     "data": {
      "text/html": [
       "<div>\n",
       "<style scoped>\n",
       "    .dataframe tbody tr th:only-of-type {\n",
       "        vertical-align: middle;\n",
       "    }\n",
       "\n",
       "    .dataframe tbody tr th {\n",
       "        vertical-align: top;\n",
       "    }\n",
       "\n",
       "    .dataframe thead th {\n",
       "        text-align: right;\n",
       "    }\n",
       "</style>\n",
       "<table border=\"1\" class=\"dataframe\">\n",
       "  <thead>\n",
       "    <tr style=\"text-align: right;\">\n",
       "      <th></th>\n",
       "      <th>id</th>\n",
       "      <th>user_id</th>\n",
       "      <th>call_date</th>\n",
       "      <th>duration</th>\n",
       "    </tr>\n",
       "  </thead>\n",
       "  <tbody>\n",
       "    <tr>\n",
       "      <td>0</td>\n",
       "      <td>1000_93</td>\n",
       "      <td>1000</td>\n",
       "      <td>2018-12-27</td>\n",
       "      <td>8.52</td>\n",
       "    </tr>\n",
       "    <tr>\n",
       "      <td>1</td>\n",
       "      <td>1000_145</td>\n",
       "      <td>1000</td>\n",
       "      <td>2018-12-27</td>\n",
       "      <td>13.66</td>\n",
       "    </tr>\n",
       "    <tr>\n",
       "      <td>2</td>\n",
       "      <td>1000_247</td>\n",
       "      <td>1000</td>\n",
       "      <td>2018-12-27</td>\n",
       "      <td>14.48</td>\n",
       "    </tr>\n",
       "    <tr>\n",
       "      <td>3</td>\n",
       "      <td>1000_309</td>\n",
       "      <td>1000</td>\n",
       "      <td>2018-12-28</td>\n",
       "      <td>5.76</td>\n",
       "    </tr>\n",
       "    <tr>\n",
       "      <td>4</td>\n",
       "      <td>1000_380</td>\n",
       "      <td>1000</td>\n",
       "      <td>2018-12-30</td>\n",
       "      <td>4.22</td>\n",
       "    </tr>\n",
       "  </tbody>\n",
       "</table>\n",
       "</div>"
      ],
      "text/plain": [
       "         id  user_id   call_date  duration\n",
       "0   1000_93     1000  2018-12-27      8.52\n",
       "1  1000_145     1000  2018-12-27     13.66\n",
       "2  1000_247     1000  2018-12-27     14.48\n",
       "3  1000_309     1000  2018-12-28      5.76\n",
       "4  1000_380     1000  2018-12-30      4.22"
      ]
     },
     "execution_count": 41,
     "metadata": {},
     "output_type": "execute_result"
    }
   ],
   "source": [
    "calls.head()"
   ]
  },
  {
   "cell_type": "code",
   "execution_count": 42,
   "metadata": {},
   "outputs": [
    {
     "name": "stdout",
     "output_type": "stream",
     "text": [
      "<class 'pandas.core.frame.DataFrame'>\n",
      "RangeIndex: 137735 entries, 0 to 137734\n",
      "Data columns (total 4 columns):\n",
      "id           137735 non-null object\n",
      "user_id      137735 non-null int64\n",
      "call_date    137735 non-null object\n",
      "duration     137735 non-null float64\n",
      "dtypes: float64(1), int64(1), object(2)\n",
      "memory usage: 4.2+ MB\n"
     ]
    }
   ],
   "source": [
    "# Check the data type and missing values in each table column\n",
    "calls.info ()"
   ]
  },
  {
   "cell_type": "markdown",
   "metadata": {},
   "source": [
    "There are no missing values or data with a strange data type. "
   ]
  },
  {
   "cell_type": "code",
   "execution_count": 43,
   "metadata": {},
   "outputs": [
    {
     "data": {
      "image/png": "[encoded data removed]",
      "text/plain": [
       "<Figure size 432x288 with 1 Axes>"
      ]
     },
     "metadata": {},
     "output_type": "display_data"
    }
   ],
   "source": [
    "# Create a histogram representing the \"call duration in minutes\"\n",
    "plt.hist(calls['duration'], bins=25)\n",
    "plt.ylabel('No of times')\n",
    "plt.xlabel('Duration, min')\n",
    "plt.show()"
   ]
  },
  {
   "cell_type": "markdown",
   "metadata": {},
   "source": [
    "The graph shows a large number of calls where the duration is 0 minutes.\n",
    "These could be either missed or very short calls (< 1 min)."
   ]
  },
  {
   "cell_type": "code",
   "execution_count": 44,
   "metadata": {},
   "outputs": [
    {
     "data": {
      "text/plain": [
       "26834"
      ]
     },
     "execution_count": 44,
     "metadata": {},
     "output_type": "execute_result"
    }
   ],
   "source": [
    "# Count the number of zero values for the duration of calls\n",
    "calls.query('duration ==0').count()[1]"
   ]
  },
  {
   "cell_type": "code",
   "execution_count": 45,
   "metadata": {},
   "outputs": [
    {
     "data": {
      "text/plain": [
       "24.2"
      ]
     },
     "execution_count": 45,
     "metadata": {},
     "output_type": "execute_result"
    }
   ],
   "source": [
    "# Calculate the % of zero values for the duration of calls\n",
    "((calls.query('duration ==0').count()[1] / calls.query('duration !=0').count()[1])*100).round(decimals=1)"
   ]
  },
  {
   "cell_type": "code",
   "execution_count": 46,
   "metadata": {},
   "outputs": [
    {
     "data": {
      "text/plain": [
       "count    137735.000000\n",
       "mean          6.745927\n",
       "std           5.839241\n",
       "min           0.000000\n",
       "25%           1.290000\n",
       "50%           5.980000\n",
       "75%          10.690000\n",
       "max          37.600000\n",
       "Name: duration, dtype: float64"
      ]
     },
     "execution_count": 46,
     "metadata": {},
     "output_type": "execute_result"
    }
   ],
   "source": [
    "# Show summary of statistics for column 'duration'\n",
    "calls['duration'].describe()"
   ]
  },
  {
   "cell_type": "markdown",
   "metadata": {},
   "source": [
    "### Table - Internet"
   ]
  },
  {
   "cell_type": "code",
   "execution_count": 47,
   "metadata": {},
   "outputs": [
    {
     "data": {
      "text/html": [
       "<div>\n",
       "<style scoped>\n",
       "    .dataframe tbody tr th:only-of-type {\n",
       "        vertical-align: middle;\n",
       "    }\n",
       "\n",
       "    .dataframe tbody tr th {\n",
       "        vertical-align: top;\n",
       "    }\n",
       "\n",
       "    .dataframe thead th {\n",
       "        text-align: right;\n",
       "    }\n",
       "</style>\n",
       "<table border=\"1\" class=\"dataframe\">\n",
       "  <thead>\n",
       "    <tr style=\"text-align: right;\">\n",
       "      <th></th>\n",
       "      <th>id</th>\n",
       "      <th>user_id</th>\n",
       "      <th>session_date</th>\n",
       "      <th>mb_used</th>\n",
       "    </tr>\n",
       "  </thead>\n",
       "  <tbody>\n",
       "    <tr>\n",
       "      <td>0</td>\n",
       "      <td>1000_13</td>\n",
       "      <td>1000</td>\n",
       "      <td>2018-12-29</td>\n",
       "      <td>89.86</td>\n",
       "    </tr>\n",
       "    <tr>\n",
       "      <td>1</td>\n",
       "      <td>1000_204</td>\n",
       "      <td>1000</td>\n",
       "      <td>2018-12-31</td>\n",
       "      <td>0.00</td>\n",
       "    </tr>\n",
       "    <tr>\n",
       "      <td>2</td>\n",
       "      <td>1000_379</td>\n",
       "      <td>1000</td>\n",
       "      <td>2018-12-28</td>\n",
       "      <td>660.40</td>\n",
       "    </tr>\n",
       "    <tr>\n",
       "      <td>3</td>\n",
       "      <td>1000_413</td>\n",
       "      <td>1000</td>\n",
       "      <td>2018-12-26</td>\n",
       "      <td>270.99</td>\n",
       "    </tr>\n",
       "    <tr>\n",
       "      <td>4</td>\n",
       "      <td>1000_442</td>\n",
       "      <td>1000</td>\n",
       "      <td>2018-12-27</td>\n",
       "      <td>880.22</td>\n",
       "    </tr>\n",
       "  </tbody>\n",
       "</table>\n",
       "</div>"
      ],
      "text/plain": [
       "         id  user_id session_date  mb_used\n",
       "0   1000_13     1000   2018-12-29    89.86\n",
       "1  1000_204     1000   2018-12-31     0.00\n",
       "2  1000_379     1000   2018-12-28   660.40\n",
       "3  1000_413     1000   2018-12-26   270.99\n",
       "4  1000_442     1000   2018-12-27   880.22"
      ]
     },
     "execution_count": 47,
     "metadata": {},
     "output_type": "execute_result"
    }
   ],
   "source": [
    "internet.head()"
   ]
  },
  {
   "cell_type": "code",
   "execution_count": 48,
   "metadata": {},
   "outputs": [
    {
     "name": "stdout",
     "output_type": "stream",
     "text": [
      "<class 'pandas.core.frame.DataFrame'>\n",
      "RangeIndex: 104825 entries, 0 to 104824\n",
      "Data columns (total 4 columns):\n",
      "id              104825 non-null object\n",
      "user_id         104825 non-null int64\n",
      "session_date    104825 non-null object\n",
      "mb_used         104825 non-null float64\n",
      "dtypes: float64(1), int64(1), object(2)\n",
      "memory usage: 3.2+ MB\n"
     ]
    }
   ],
   "source": [
    "# Check the data type and missing values in each table column\n",
    "internet.info()"
   ]
  },
  {
   "cell_type": "code",
   "execution_count": 49,
   "metadata": {},
   "outputs": [
    {
     "data": {
      "image/png": "[encoded data removed]",
      "text/plain": [
       "<Figure size 432x288 with 1 Axes>"
      ]
     },
     "metadata": {},
     "output_type": "display_data"
    }
   ],
   "source": [
    "# Create a histogram representing the \"mb_used\" column\n",
    "plt.hist(internet['mb_used'], bins=25)\n",
    "plt.ylabel('No of times')\n",
    "plt.xlabel('Mobile Data, mb')\n",
    "plt.show()"
   ]
  },
  {
   "cell_type": "markdown",
   "metadata": {},
   "source": [
    "Data shows that a lot of internet sessions also have zero values.\n",
    "These could be potentially very short internet session (<1mb)."
   ]
  },
  {
   "cell_type": "code",
   "execution_count": 50,
   "metadata": {},
   "outputs": [
    {
     "data": {
      "text/plain": [
       "13747"
      ]
     },
     "execution_count": 50,
     "metadata": {},
     "output_type": "execute_result"
    }
   ],
   "source": [
    "# Count the number of zero values for the mb_used\n",
    "internet.query('mb_used ==0').count()[1]"
   ]
  },
  {
   "cell_type": "code",
   "execution_count": 51,
   "metadata": {},
   "outputs": [
    {
     "data": {
      "text/plain": [
       "15.1"
      ]
     },
     "execution_count": 51,
     "metadata": {},
     "output_type": "execute_result"
    }
   ],
   "source": [
    "# Calculate the % of zero values for the duration of calls\n",
    "((internet.query('mb_used ==0').count()[1] / internet.query('mb_used !=0').count()[1])*100).round(decimals=1)"
   ]
  },
  {
   "cell_type": "code",
   "execution_count": 52,
   "metadata": {},
   "outputs": [
    {
     "data": {
      "text/plain": [
       "count    104825.000000\n",
       "mean        366.713701\n",
       "std         277.170542\n",
       "min           0.000000\n",
       "25%         136.080000\n",
       "50%         343.980000\n",
       "75%         554.610000\n",
       "max        1693.470000\n",
       "Name: mb_used, dtype: float64"
      ]
     },
     "execution_count": 52,
     "metadata": {},
     "output_type": "execute_result"
    }
   ],
   "source": [
    "# Show summary of statistics for column 'mb_used'\n",
    "internet['mb_used'].describe()"
   ]
  },
  {
   "cell_type": "markdown",
   "metadata": {},
   "source": [
    "### Table - messages"
   ]
  },
  {
   "cell_type": "code",
   "execution_count": 53,
   "metadata": {},
   "outputs": [
    {
     "data": {
      "text/html": [
       "<div>\n",
       "<style scoped>\n",
       "    .dataframe tbody tr th:only-of-type {\n",
       "        vertical-align: middle;\n",
       "    }\n",
       "\n",
       "    .dataframe tbody tr th {\n",
       "        vertical-align: top;\n",
       "    }\n",
       "\n",
       "    .dataframe thead th {\n",
       "        text-align: right;\n",
       "    }\n",
       "</style>\n",
       "<table border=\"1\" class=\"dataframe\">\n",
       "  <thead>\n",
       "    <tr style=\"text-align: right;\">\n",
       "      <th></th>\n",
       "      <th>id</th>\n",
       "      <th>user_id</th>\n",
       "      <th>message_date</th>\n",
       "    </tr>\n",
       "  </thead>\n",
       "  <tbody>\n",
       "    <tr>\n",
       "      <td>0</td>\n",
       "      <td>1000_125</td>\n",
       "      <td>1000</td>\n",
       "      <td>2018-12-27</td>\n",
       "    </tr>\n",
       "    <tr>\n",
       "      <td>1</td>\n",
       "      <td>1000_160</td>\n",
       "      <td>1000</td>\n",
       "      <td>2018-12-31</td>\n",
       "    </tr>\n",
       "    <tr>\n",
       "      <td>2</td>\n",
       "      <td>1000_223</td>\n",
       "      <td>1000</td>\n",
       "      <td>2018-12-31</td>\n",
       "    </tr>\n",
       "    <tr>\n",
       "      <td>3</td>\n",
       "      <td>1000_251</td>\n",
       "      <td>1000</td>\n",
       "      <td>2018-12-27</td>\n",
       "    </tr>\n",
       "    <tr>\n",
       "      <td>4</td>\n",
       "      <td>1000_255</td>\n",
       "      <td>1000</td>\n",
       "      <td>2018-12-26</td>\n",
       "    </tr>\n",
       "  </tbody>\n",
       "</table>\n",
       "</div>"
      ],
      "text/plain": [
       "         id  user_id message_date\n",
       "0  1000_125     1000   2018-12-27\n",
       "1  1000_160     1000   2018-12-31\n",
       "2  1000_223     1000   2018-12-31\n",
       "3  1000_251     1000   2018-12-27\n",
       "4  1000_255     1000   2018-12-26"
      ]
     },
     "execution_count": 53,
     "metadata": {},
     "output_type": "execute_result"
    }
   ],
   "source": [
    "messages.head()"
   ]
  },
  {
   "cell_type": "code",
   "execution_count": 54,
   "metadata": {},
   "outputs": [
    {
     "name": "stdout",
     "output_type": "stream",
     "text": [
      "<class 'pandas.core.frame.DataFrame'>\n",
      "RangeIndex: 76051 entries, 0 to 76050\n",
      "Data columns (total 3 columns):\n",
      "id              76051 non-null object\n",
      "user_id         76051 non-null int64\n",
      "message_date    76051 non-null object\n",
      "dtypes: int64(1), object(2)\n",
      "memory usage: 1.7+ MB\n"
     ]
    }
   ],
   "source": [
    "# Check the data type and missing values in each table column\n",
    "messages.info()"
   ]
  },
  {
   "cell_type": "markdown",
   "metadata": {},
   "source": [
    "### Table - Plans"
   ]
  },
  {
   "cell_type": "code",
   "execution_count": 55,
   "metadata": {},
   "outputs": [
    {
     "data": {
      "text/html": [
       "<div>\n",
       "<style scoped>\n",
       "    .dataframe tbody tr th:only-of-type {\n",
       "        vertical-align: middle;\n",
       "    }\n",
       "\n",
       "    .dataframe tbody tr th {\n",
       "        vertical-align: top;\n",
       "    }\n",
       "\n",
       "    .dataframe thead th {\n",
       "        text-align: right;\n",
       "    }\n",
       "</style>\n",
       "<table border=\"1\" class=\"dataframe\">\n",
       "  <thead>\n",
       "    <tr style=\"text-align: right;\">\n",
       "      <th></th>\n",
       "      <th>messages_included</th>\n",
       "      <th>mb_per_month_included</th>\n",
       "      <th>minutes_included</th>\n",
       "      <th>usd_monthly_pay</th>\n",
       "      <th>usd_per_gb</th>\n",
       "      <th>usd_per_message</th>\n",
       "      <th>usd_per_minute</th>\n",
       "      <th>plan_name</th>\n",
       "    </tr>\n",
       "  </thead>\n",
       "  <tbody>\n",
       "    <tr>\n",
       "      <td>0</td>\n",
       "      <td>50</td>\n",
       "      <td>15360</td>\n",
       "      <td>500</td>\n",
       "      <td>20</td>\n",
       "      <td>10</td>\n",
       "      <td>0.03</td>\n",
       "      <td>0.03</td>\n",
       "      <td>surf</td>\n",
       "    </tr>\n",
       "    <tr>\n",
       "      <td>1</td>\n",
       "      <td>1000</td>\n",
       "      <td>30720</td>\n",
       "      <td>3000</td>\n",
       "      <td>70</td>\n",
       "      <td>7</td>\n",
       "      <td>0.01</td>\n",
       "      <td>0.01</td>\n",
       "      <td>ultimate</td>\n",
       "    </tr>\n",
       "  </tbody>\n",
       "</table>\n",
       "</div>"
      ],
      "text/plain": [
       "   messages_included  mb_per_month_included  minutes_included  \\\n",
       "0                 50                  15360               500   \n",
       "1               1000                  30720              3000   \n",
       "\n",
       "   usd_monthly_pay  usd_per_gb  usd_per_message  usd_per_minute plan_name  \n",
       "0               20          10             0.03            0.03      surf  \n",
       "1               70           7             0.01            0.01  ultimate  "
      ]
     },
     "execution_count": 55,
     "metadata": {},
     "output_type": "execute_result"
    }
   ],
   "source": [
    "plans"
   ]
  },
  {
   "cell_type": "markdown",
   "metadata": {},
   "source": [
    "### Table - Users"
   ]
  },
  {
   "cell_type": "code",
   "execution_count": 56,
   "metadata": {},
   "outputs": [
    {
     "data": {
      "text/html": [
       "<div>\n",
       "<style scoped>\n",
       "    .dataframe tbody tr th:only-of-type {\n",
       "        vertical-align: middle;\n",
       "    }\n",
       "\n",
       "    .dataframe tbody tr th {\n",
       "        vertical-align: top;\n",
       "    }\n",
       "\n",
       "    .dataframe thead th {\n",
       "        text-align: right;\n",
       "    }\n",
       "</style>\n",
       "<table border=\"1\" class=\"dataframe\">\n",
       "  <thead>\n",
       "    <tr style=\"text-align: right;\">\n",
       "      <th></th>\n",
       "      <th>user_id</th>\n",
       "      <th>first_name</th>\n",
       "      <th>last_name</th>\n",
       "      <th>age</th>\n",
       "      <th>city</th>\n",
       "      <th>reg_date</th>\n",
       "      <th>plan</th>\n",
       "      <th>churn_date</th>\n",
       "    </tr>\n",
       "  </thead>\n",
       "  <tbody>\n",
       "    <tr>\n",
       "      <td>0</td>\n",
       "      <td>1000</td>\n",
       "      <td>Anamaria</td>\n",
       "      <td>Bauer</td>\n",
       "      <td>45</td>\n",
       "      <td>Atlanta-Sandy Springs-Roswell, GA MSA</td>\n",
       "      <td>2018-12-24</td>\n",
       "      <td>ultimate</td>\n",
       "      <td>NaN</td>\n",
       "    </tr>\n",
       "    <tr>\n",
       "      <td>1</td>\n",
       "      <td>1001</td>\n",
       "      <td>Mickey</td>\n",
       "      <td>Wilkerson</td>\n",
       "      <td>28</td>\n",
       "      <td>Seattle-Tacoma-Bellevue, WA MSA</td>\n",
       "      <td>2018-08-13</td>\n",
       "      <td>surf</td>\n",
       "      <td>NaN</td>\n",
       "    </tr>\n",
       "    <tr>\n",
       "      <td>2</td>\n",
       "      <td>1002</td>\n",
       "      <td>Carlee</td>\n",
       "      <td>Hoffman</td>\n",
       "      <td>36</td>\n",
       "      <td>Las Vegas-Henderson-Paradise, NV MSA</td>\n",
       "      <td>2018-10-21</td>\n",
       "      <td>surf</td>\n",
       "      <td>NaN</td>\n",
       "    </tr>\n",
       "    <tr>\n",
       "      <td>3</td>\n",
       "      <td>1003</td>\n",
       "      <td>Reynaldo</td>\n",
       "      <td>Jenkins</td>\n",
       "      <td>52</td>\n",
       "      <td>Tulsa, OK MSA</td>\n",
       "      <td>2018-01-28</td>\n",
       "      <td>surf</td>\n",
       "      <td>NaN</td>\n",
       "    </tr>\n",
       "    <tr>\n",
       "      <td>4</td>\n",
       "      <td>1004</td>\n",
       "      <td>Leonila</td>\n",
       "      <td>Thompson</td>\n",
       "      <td>40</td>\n",
       "      <td>Seattle-Tacoma-Bellevue, WA MSA</td>\n",
       "      <td>2018-05-23</td>\n",
       "      <td>surf</td>\n",
       "      <td>NaN</td>\n",
       "    </tr>\n",
       "  </tbody>\n",
       "</table>\n",
       "</div>"
      ],
      "text/plain": [
       "   user_id first_name  last_name  age                                   city  \\\n",
       "0     1000   Anamaria      Bauer   45  Atlanta-Sandy Springs-Roswell, GA MSA   \n",
       "1     1001     Mickey  Wilkerson   28        Seattle-Tacoma-Bellevue, WA MSA   \n",
       "2     1002     Carlee    Hoffman   36   Las Vegas-Henderson-Paradise, NV MSA   \n",
       "3     1003   Reynaldo    Jenkins   52                          Tulsa, OK MSA   \n",
       "4     1004    Leonila   Thompson   40        Seattle-Tacoma-Bellevue, WA MSA   \n",
       "\n",
       "     reg_date      plan churn_date  \n",
       "0  2018-12-24  ultimate        NaN  \n",
       "1  2018-08-13      surf        NaN  \n",
       "2  2018-10-21      surf        NaN  \n",
       "3  2018-01-28      surf        NaN  \n",
       "4  2018-05-23      surf        NaN  "
      ]
     },
     "execution_count": 56,
     "metadata": {},
     "output_type": "execute_result"
    }
   ],
   "source": [
    "users.head()"
   ]
  },
  {
   "cell_type": "markdown",
   "metadata": {},
   "source": [
    "## 2. Data Preprocessing"
   ]
  },
  {
   "cell_type": "markdown",
   "metadata": {},
   "source": [
    "### 2.1 Working with Missing Values"
   ]
  },
  {
   "cell_type": "markdown",
   "metadata": {},
   "source": [
    "A large number of values with zeros were noticed in the variables \"call duration\" and \"Internet session volume\". \n",
    "Let's assume that the values were filled with zeros because the call duration was less than a minute or the volume of the Internet session was less than a megabyte.\n",
    "One option would be to exclude this data; however, it represents 24% and 15% of all data. The proposal is to round up zero values to 1 min/MB respectively."
   ]
  },
  {
   "cell_type": "code",
   "execution_count": 57,
   "metadata": {},
   "outputs": [],
   "source": [
    "# Round off zero values to 1 minute and change the data type to integer\n",
    "calls['duration'] = np.where(calls['duration'] == 0, 1, calls['duration']).astype(int)"
   ]
  },
  {
   "cell_type": "markdown",
   "metadata": {},
   "source": [
    "The proposal is the same for internet data - to replace zero values to 1 MB"
   ]
  },
  {
   "cell_type": "code",
   "execution_count": 58,
   "metadata": {},
   "outputs": [],
   "source": [
    "# Round off zero values to 1 mb\n",
    "internet['mb_used'] = np.where(internet['mb_used'] == 0, 1, internet['mb_used'])"
   ]
  },
  {
   "cell_type": "markdown",
   "metadata": {},
   "source": [
    "### 2.2 Data Types Conversion"
   ]
  },
  {
   "cell_type": "markdown",
   "metadata": {},
   "source": [
    "Additionally, all dates in data have type - object. Let's convert strings to dates and create a new column \"month\"."
   ]
  },
  {
   "cell_type": "code",
   "execution_count": 59,
   "metadata": {},
   "outputs": [],
   "source": [
    "# Table - Messages, convert data type to date\n",
    "messages['message_date'] = pd.to_datetime(messages['message_date'], format = '%Y-%m-%d')\n",
    "messages['month'] = pd.DatetimeIndex(messages['message_date']).month"
   ]
  },
  {
   "cell_type": "code",
   "execution_count": 60,
   "metadata": {},
   "outputs": [],
   "source": [
    "# Table - Users, convert data type to date\n",
    "users['reg_date'] = pd.to_datetime(users['reg_date'], format = '%Y-%m-%d')\n",
    "users['month'] = pd.DatetimeIndex(users['reg_date']).month"
   ]
  },
  {
   "cell_type": "code",
   "execution_count": 61,
   "metadata": {},
   "outputs": [],
   "source": [
    "# Table - Internet, convert data type to date\n",
    "internet['session_date'] = pd.to_datetime(internet['session_date'], format = '%Y-%m-%d')\n",
    "internet['month'] = pd.DatetimeIndex(internet['session_date']).month"
   ]
  },
  {
   "cell_type": "code",
   "execution_count": 62,
   "metadata": {},
   "outputs": [],
   "source": [
    "# Table - Calls, convert data type to date\n",
    "calls['call_date'] = pd.to_datetime(calls['call_date'], format = '%Y-%m-%d')\n",
    "calls['month'] = pd.DatetimeIndex(calls['call_date']).month"
   ]
  },
  {
   "cell_type": "markdown",
   "metadata": {},
   "source": [
    "Let's convert the churn_date column to the datetime type as well. If the user is still a customer of the company, then this column will be blank."
   ]
  },
  {
   "cell_type": "code",
   "execution_count": 63,
   "metadata": {},
   "outputs": [],
   "source": [
    "# Churn Date transformation\n",
    "users['churn_date'] = pd.to_datetime(users['churn_date'], format = '%Y-%m-%d')\n",
    "users['churn_date'] = users['churn_date'].fillna(0)"
   ]
  },
  {
   "cell_type": "markdown",
   "metadata": {},
   "source": [
    "### 2.3 Creation of new columns"
   ]
  },
  {
   "cell_type": "markdown",
   "metadata": {},
   "source": [
    "#### Number of calls per month for each user"
   ]
  },
  {
   "cell_type": "code",
   "execution_count": 64,
   "metadata": {},
   "outputs": [
    {
     "data": {
      "text/html": [
       "<div>\n",
       "<style scoped>\n",
       "    .dataframe tbody tr th:only-of-type {\n",
       "        vertical-align: middle;\n",
       "    }\n",
       "\n",
       "    .dataframe tbody tr th {\n",
       "        vertical-align: top;\n",
       "    }\n",
       "\n",
       "    .dataframe thead th {\n",
       "        text-align: right;\n",
       "    }\n",
       "</style>\n",
       "<table border=\"1\" class=\"dataframe\">\n",
       "  <thead>\n",
       "    <tr style=\"text-align: right;\">\n",
       "      <th></th>\n",
       "      <th>user_id</th>\n",
       "      <th>month</th>\n",
       "      <th>calls_count</th>\n",
       "    </tr>\n",
       "  </thead>\n",
       "  <tbody>\n",
       "    <tr>\n",
       "      <td>0</td>\n",
       "      <td>1000</td>\n",
       "      <td>12</td>\n",
       "      <td>16</td>\n",
       "    </tr>\n",
       "    <tr>\n",
       "      <td>1</td>\n",
       "      <td>1001</td>\n",
       "      <td>8</td>\n",
       "      <td>27</td>\n",
       "    </tr>\n",
       "    <tr>\n",
       "      <td>2</td>\n",
       "      <td>1001</td>\n",
       "      <td>9</td>\n",
       "      <td>49</td>\n",
       "    </tr>\n",
       "    <tr>\n",
       "      <td>3</td>\n",
       "      <td>1001</td>\n",
       "      <td>10</td>\n",
       "      <td>65</td>\n",
       "    </tr>\n",
       "    <tr>\n",
       "      <td>4</td>\n",
       "      <td>1001</td>\n",
       "      <td>11</td>\n",
       "      <td>64</td>\n",
       "    </tr>\n",
       "  </tbody>\n",
       "</table>\n",
       "</div>"
      ],
      "text/plain": [
       "   user_id  month  calls_count\n",
       "0     1000     12           16\n",
       "1     1001      8           27\n",
       "2     1001      9           49\n",
       "3     1001     10           65\n",
       "4     1001     11           64"
      ]
     },
     "execution_count": 64,
     "metadata": {},
     "output_type": "execute_result"
    }
   ],
   "source": [
    "# Aggregated number of call per user_id and month \n",
    "calls_count = calls.groupby(['user_id','month'],as_index=False)['id'].count()\n",
    "calls_count.columns = ['user_id','month','calls_count']\n",
    "calls_count.head()"
   ]
  },
  {
   "cell_type": "markdown",
   "metadata": {},
   "source": [
    "#### Sum of minutes used per month for each user"
   ]
  },
  {
   "cell_type": "code",
   "execution_count": 65,
   "metadata": {},
   "outputs": [
    {
     "data": {
      "text/html": [
       "<div>\n",
       "<style scoped>\n",
       "    .dataframe tbody tr th:only-of-type {\n",
       "        vertical-align: middle;\n",
       "    }\n",
       "\n",
       "    .dataframe tbody tr th {\n",
       "        vertical-align: top;\n",
       "    }\n",
       "\n",
       "    .dataframe thead th {\n",
       "        text-align: right;\n",
       "    }\n",
       "</style>\n",
       "<table border=\"1\" class=\"dataframe\">\n",
       "  <thead>\n",
       "    <tr style=\"text-align: right;\">\n",
       "      <th></th>\n",
       "      <th>user_id</th>\n",
       "      <th>month</th>\n",
       "      <th>calls_minutes</th>\n",
       "    </tr>\n",
       "  </thead>\n",
       "  <tbody>\n",
       "    <tr>\n",
       "      <td>0</td>\n",
       "      <td>1000</td>\n",
       "      <td>12</td>\n",
       "      <td>108</td>\n",
       "    </tr>\n",
       "    <tr>\n",
       "      <td>1</td>\n",
       "      <td>1001</td>\n",
       "      <td>8</td>\n",
       "      <td>165</td>\n",
       "    </tr>\n",
       "    <tr>\n",
       "      <td>2</td>\n",
       "      <td>1001</td>\n",
       "      <td>9</td>\n",
       "      <td>289</td>\n",
       "    </tr>\n",
       "    <tr>\n",
       "      <td>3</td>\n",
       "      <td>1001</td>\n",
       "      <td>10</td>\n",
       "      <td>366</td>\n",
       "    </tr>\n",
       "    <tr>\n",
       "      <td>4</td>\n",
       "      <td>1001</td>\n",
       "      <td>11</td>\n",
       "      <td>394</td>\n",
       "    </tr>\n",
       "  </tbody>\n",
       "</table>\n",
       "</div>"
      ],
      "text/plain": [
       "   user_id  month  calls_minutes\n",
       "0     1000     12            108\n",
       "1     1001      8            165\n",
       "2     1001      9            289\n",
       "3     1001     10            366\n",
       "4     1001     11            394"
      ]
     },
     "execution_count": 65,
     "metadata": {},
     "output_type": "execute_result"
    }
   ],
   "source": [
    "# Sum of minutes per user_id per month \n",
    "calls_sum = calls.groupby(['user_id','month'],as_index=False)['duration'].sum()\n",
    "calls_sum.columns = ['user_id','month','calls_minutes']\n",
    "calls_sum.head()"
   ]
  },
  {
   "cell_type": "markdown",
   "metadata": {},
   "source": [
    "#### Number of text messages sent per month for each user"
   ]
  },
  {
   "cell_type": "code",
   "execution_count": 66,
   "metadata": {},
   "outputs": [
    {
     "data": {
      "text/html": [
       "<div>\n",
       "<style scoped>\n",
       "    .dataframe tbody tr th:only-of-type {\n",
       "        vertical-align: middle;\n",
       "    }\n",
       "\n",
       "    .dataframe tbody tr th {\n",
       "        vertical-align: top;\n",
       "    }\n",
       "\n",
       "    .dataframe thead th {\n",
       "        text-align: right;\n",
       "    }\n",
       "</style>\n",
       "<table border=\"1\" class=\"dataframe\">\n",
       "  <thead>\n",
       "    <tr style=\"text-align: right;\">\n",
       "      <th></th>\n",
       "      <th>user_id</th>\n",
       "      <th>month</th>\n",
       "      <th>messages_count</th>\n",
       "    </tr>\n",
       "  </thead>\n",
       "  <tbody>\n",
       "    <tr>\n",
       "      <td>0</td>\n",
       "      <td>1000</td>\n",
       "      <td>12</td>\n",
       "      <td>11</td>\n",
       "    </tr>\n",
       "    <tr>\n",
       "      <td>1</td>\n",
       "      <td>1001</td>\n",
       "      <td>8</td>\n",
       "      <td>30</td>\n",
       "    </tr>\n",
       "    <tr>\n",
       "      <td>2</td>\n",
       "      <td>1001</td>\n",
       "      <td>9</td>\n",
       "      <td>44</td>\n",
       "    </tr>\n",
       "    <tr>\n",
       "      <td>3</td>\n",
       "      <td>1001</td>\n",
       "      <td>10</td>\n",
       "      <td>53</td>\n",
       "    </tr>\n",
       "    <tr>\n",
       "      <td>4</td>\n",
       "      <td>1001</td>\n",
       "      <td>11</td>\n",
       "      <td>36</td>\n",
       "    </tr>\n",
       "  </tbody>\n",
       "</table>\n",
       "</div>"
      ],
      "text/plain": [
       "   user_id  month  messages_count\n",
       "0     1000     12              11\n",
       "1     1001      8              30\n",
       "2     1001      9              44\n",
       "3     1001     10              53\n",
       "4     1001     11              36"
      ]
     },
     "execution_count": 66,
     "metadata": {},
     "output_type": "execute_result"
    }
   ],
   "source": [
    "# Aggregated number of messages per user_id and month \n",
    "messages_count = messages.groupby(['user_id','month'],as_index=False)['id'].count()\n",
    "messages_count.columns = ['user_id','month','messages_count']\n",
    "messages_count.head()"
   ]
  },
  {
   "cell_type": "markdown",
   "metadata": {},
   "source": [
    "#### The volume of data used per month for each user"
   ]
  },
  {
   "cell_type": "code",
   "execution_count": 67,
   "metadata": {},
   "outputs": [
    {
     "data": {
      "text/html": [
       "<div>\n",
       "<style scoped>\n",
       "    .dataframe tbody tr th:only-of-type {\n",
       "        vertical-align: middle;\n",
       "    }\n",
       "\n",
       "    .dataframe tbody tr th {\n",
       "        vertical-align: top;\n",
       "    }\n",
       "\n",
       "    .dataframe thead th {\n",
       "        text-align: right;\n",
       "    }\n",
       "</style>\n",
       "<table border=\"1\" class=\"dataframe\">\n",
       "  <thead>\n",
       "    <tr style=\"text-align: right;\">\n",
       "      <th></th>\n",
       "      <th>user_id</th>\n",
       "      <th>month</th>\n",
       "      <th>gb_total</th>\n",
       "    </tr>\n",
       "  </thead>\n",
       "  <tbody>\n",
       "    <tr>\n",
       "      <td>0</td>\n",
       "      <td>1000</td>\n",
       "      <td>12</td>\n",
       "      <td>1.86</td>\n",
       "    </tr>\n",
       "    <tr>\n",
       "      <td>1</td>\n",
       "      <td>1001</td>\n",
       "      <td>8</td>\n",
       "      <td>6.76</td>\n",
       "    </tr>\n",
       "    <tr>\n",
       "      <td>2</td>\n",
       "      <td>1001</td>\n",
       "      <td>9</td>\n",
       "      <td>13.02</td>\n",
       "    </tr>\n",
       "    <tr>\n",
       "      <td>3</td>\n",
       "      <td>1001</td>\n",
       "      <td>10</td>\n",
       "      <td>21.81</td>\n",
       "    </tr>\n",
       "    <tr>\n",
       "      <td>4</td>\n",
       "      <td>1001</td>\n",
       "      <td>11</td>\n",
       "      <td>18.07</td>\n",
       "    </tr>\n",
       "  </tbody>\n",
       "</table>\n",
       "</div>"
      ],
      "text/plain": [
       "   user_id  month  gb_total\n",
       "0     1000     12      1.86\n",
       "1     1001      8      6.76\n",
       "2     1001      9     13.02\n",
       "3     1001     10     21.81\n",
       "4     1001     11     18.07"
      ]
     },
     "execution_count": 67,
     "metadata": {},
     "output_type": "execute_result"
    }
   ],
   "source": [
    "# Data used has been converted to Gb and rounded up per month\n",
    "internet_traffic = internet.groupby(['user_id','month'],as_index=False)['mb_used'].sum()\n",
    "internet_traffic.columns = ['user_id','month','gb_total']\n",
    "internet_traffic['gb_total'] = round((internet_traffic['gb_total'] / 1024),2)\n",
    "internet_traffic.head()"
   ]
  },
  {
   "cell_type": "markdown",
   "metadata": {},
   "source": [
    "#### Merge tables and calculate monthly revenue per user"
   ]
  },
  {
   "cell_type": "code",
   "execution_count": 69,
   "metadata": {},
   "outputs": [],
   "source": [
    "# Merge one by one tables created in the previous steps \n",
    "internet_messages = pd.merge(internet_traffic,messages_count, on=['user_id','month'])\n",
    "calls_both = pd.merge(calls_count, calls_sum, on=['user_id', 'month'])\n",
    "merged_data = pd.merge(internet_messages, calls_both, on=['user_id', 'month'])\n",
    "\n",
    "# Merge new table with original data to get information about users and their plan\n",
    "merge_data1 = pd.merge(merged_data,users[['user_id','plan']],on='user_id', how='left')\n",
    "merge_data2 = pd.merge(merge_data1,users[['user_id','city']],on='user_id', how='left')\n",
    "merge_final = merge_data2.merge(plans, left_on='plan', right_on='plan_name')"
   ]
  },
  {
   "cell_type": "code",
   "execution_count": 70,
   "metadata": {},
   "outputs": [],
   "source": [
    "# Convert mb to GB and rename columns in  the final table\n",
    "merge_final['mb_per_month_included'] = merge_final['mb_per_month_included']/1024\n",
    "merge_final = merge_final.rename(columns={'mb_per_month_included': 'gb_per_month_included'})"
   ]
  },
  {
   "cell_type": "code",
   "execution_count": 71,
   "metadata": {},
   "outputs": [
    {
     "data": {
      "text/html": [
       "<div>\n",
       "<style scoped>\n",
       "    .dataframe tbody tr th:only-of-type {\n",
       "        vertical-align: middle;\n",
       "    }\n",
       "\n",
       "    .dataframe tbody tr th {\n",
       "        vertical-align: top;\n",
       "    }\n",
       "\n",
       "    .dataframe thead th {\n",
       "        text-align: right;\n",
       "    }\n",
       "</style>\n",
       "<table border=\"1\" class=\"dataframe\">\n",
       "  <thead>\n",
       "    <tr style=\"text-align: right;\">\n",
       "      <th></th>\n",
       "      <th>user_id</th>\n",
       "      <th>month</th>\n",
       "      <th>gb_total</th>\n",
       "      <th>messages_count</th>\n",
       "      <th>calls_count</th>\n",
       "      <th>calls_minutes</th>\n",
       "      <th>plan</th>\n",
       "      <th>city</th>\n",
       "      <th>messages_included</th>\n",
       "      <th>gb_per_month_included</th>\n",
       "      <th>minutes_included</th>\n",
       "      <th>usd_monthly_pay</th>\n",
       "      <th>usd_per_gb</th>\n",
       "      <th>usd_per_message</th>\n",
       "      <th>usd_per_minute</th>\n",
       "      <th>plan_name</th>\n",
       "    </tr>\n",
       "  </thead>\n",
       "  <tbody>\n",
       "    <tr>\n",
       "      <td>0</td>\n",
       "      <td>1000</td>\n",
       "      <td>12</td>\n",
       "      <td>1.86</td>\n",
       "      <td>11</td>\n",
       "      <td>16</td>\n",
       "      <td>108</td>\n",
       "      <td>ultimate</td>\n",
       "      <td>Atlanta-Sandy Springs-Roswell, GA MSA</td>\n",
       "      <td>1000</td>\n",
       "      <td>30.0</td>\n",
       "      <td>3000</td>\n",
       "      <td>70</td>\n",
       "      <td>7</td>\n",
       "      <td>0.01</td>\n",
       "      <td>0.01</td>\n",
       "      <td>ultimate</td>\n",
       "    </tr>\n",
       "    <tr>\n",
       "      <td>1</td>\n",
       "      <td>1006</td>\n",
       "      <td>11</td>\n",
       "      <td>2.02</td>\n",
       "      <td>15</td>\n",
       "      <td>2</td>\n",
       "      <td>8</td>\n",
       "      <td>ultimate</td>\n",
       "      <td>San Francisco-Oakland-Berkeley, CA MSA</td>\n",
       "      <td>1000</td>\n",
       "      <td>30.0</td>\n",
       "      <td>3000</td>\n",
       "      <td>70</td>\n",
       "      <td>7</td>\n",
       "      <td>0.01</td>\n",
       "      <td>0.01</td>\n",
       "      <td>ultimate</td>\n",
       "    </tr>\n",
       "    <tr>\n",
       "      <td>2</td>\n",
       "      <td>1006</td>\n",
       "      <td>12</td>\n",
       "      <td>31.37</td>\n",
       "      <td>139</td>\n",
       "      <td>9</td>\n",
       "      <td>54</td>\n",
       "      <td>ultimate</td>\n",
       "      <td>San Francisco-Oakland-Berkeley, CA MSA</td>\n",
       "      <td>1000</td>\n",
       "      <td>30.0</td>\n",
       "      <td>3000</td>\n",
       "      <td>70</td>\n",
       "      <td>7</td>\n",
       "      <td>0.01</td>\n",
       "      <td>0.01</td>\n",
       "      <td>ultimate</td>\n",
       "    </tr>\n",
       "    <tr>\n",
       "      <td>3</td>\n",
       "      <td>1008</td>\n",
       "      <td>10</td>\n",
       "      <td>16.71</td>\n",
       "      <td>21</td>\n",
       "      <td>71</td>\n",
       "      <td>439</td>\n",
       "      <td>ultimate</td>\n",
       "      <td>Orlando-Kissimmee-Sanford, FL MSA</td>\n",
       "      <td>1000</td>\n",
       "      <td>30.0</td>\n",
       "      <td>3000</td>\n",
       "      <td>70</td>\n",
       "      <td>7</td>\n",
       "      <td>0.01</td>\n",
       "      <td>0.01</td>\n",
       "      <td>ultimate</td>\n",
       "    </tr>\n",
       "    <tr>\n",
       "      <td>4</td>\n",
       "      <td>1008</td>\n",
       "      <td>11</td>\n",
       "      <td>23.14</td>\n",
       "      <td>37</td>\n",
       "      <td>63</td>\n",
       "      <td>409</td>\n",
       "      <td>ultimate</td>\n",
       "      <td>Orlando-Kissimmee-Sanford, FL MSA</td>\n",
       "      <td>1000</td>\n",
       "      <td>30.0</td>\n",
       "      <td>3000</td>\n",
       "      <td>70</td>\n",
       "      <td>7</td>\n",
       "      <td>0.01</td>\n",
       "      <td>0.01</td>\n",
       "      <td>ultimate</td>\n",
       "    </tr>\n",
       "  </tbody>\n",
       "</table>\n",
       "</div>"
      ],
      "text/plain": [
       "   user_id  month  gb_total  messages_count  calls_count  calls_minutes  \\\n",
       "0     1000     12      1.86              11           16            108   \n",
       "1     1006     11      2.02              15            2              8   \n",
       "2     1006     12     31.37             139            9             54   \n",
       "3     1008     10     16.71              21           71            439   \n",
       "4     1008     11     23.14              37           63            409   \n",
       "\n",
       "       plan                                    city  messages_included  \\\n",
       "0  ultimate   Atlanta-Sandy Springs-Roswell, GA MSA               1000   \n",
       "1  ultimate  San Francisco-Oakland-Berkeley, CA MSA               1000   \n",
       "2  ultimate  San Francisco-Oakland-Berkeley, CA MSA               1000   \n",
       "3  ultimate       Orlando-Kissimmee-Sanford, FL MSA               1000   \n",
       "4  ultimate       Orlando-Kissimmee-Sanford, FL MSA               1000   \n",
       "\n",
       "   gb_per_month_included  minutes_included  usd_monthly_pay  usd_per_gb  \\\n",
       "0                   30.0              3000               70           7   \n",
       "1                   30.0              3000               70           7   \n",
       "2                   30.0              3000               70           7   \n",
       "3                   30.0              3000               70           7   \n",
       "4                   30.0              3000               70           7   \n",
       "\n",
       "   usd_per_message  usd_per_minute plan_name  \n",
       "0             0.01            0.01  ultimate  \n",
       "1             0.01            0.01  ultimate  \n",
       "2             0.01            0.01  ultimate  \n",
       "3             0.01            0.01  ultimate  \n",
       "4             0.01            0.01  ultimate  "
      ]
     },
     "execution_count": 71,
     "metadata": {},
     "output_type": "execute_result"
    }
   ],
   "source": [
    "# Display the final table\n",
    "merge_final.head()"
   ]
  },
  {
   "cell_type": "markdown",
   "metadata": {},
   "source": [
    "**Monthly revenue per user**\n",
    "\n",
    "Let's find:\n",
    "- revenue from messages\n",
    "- revenue from calls\n",
    "- revenue from the internet\n",
    "- additional revenue (the sum of the first three)\n",
    "- total revenue (additional + monthly charge)"
   ]
  },
  {
   "cell_type": "code",
   "execution_count": 72,
   "metadata": {},
   "outputs": [],
   "source": [
    "# Calculate revenue from messages\n",
    "merge_final['message_revenue'] = np.where((merge_final['messages_included'] - merge_final['messages_count']<0), abs(merge_final['usd_per_message']*(merge_final['messages_included']-merge_final['messages_count'])), 0)\n",
    "\n",
    "# Calculate revenue from calls\n",
    "merge_final['calls_revenue'] = np.where((merge_final['minutes_included'] - merge_final['calls_minutes']<0), abs(merge_final['usd_per_minute']*(merge_final['minutes_included']-merge_final['calls_minutes'])), 0)\n",
    "\n",
    "# Calculate revenue from internet packages\n",
    "merge_final['internet_revenue'] = np.where((merge_final['gb_per_month_included'] - merge_final['gb_total']<0), (np.ceil((abs((merge_final['gb_per_month_included']-merge_final['gb_total'])))).astype(int)*merge_final['usd_per_gb']), 0)\n",
    "\n",
    "# Aggregate additional revenue from messages, calls of internet above customer plan\n",
    "merge_final['add_revenue'] = merge_final['message_revenue'] + merge_final['calls_revenue'] + merge_final['internet_revenue']\n",
    "\n",
    "# Aggregate total revenue which consists of additional revenue and cost of the plan\n",
    "merge_final['total_revenue'] = merge_final['add_revenue'] + merge_final['usd_monthly_pay']"
   ]
  },
  {
   "cell_type": "code",
   "execution_count": 73,
   "metadata": {},
   "outputs": [
    {
     "data": {
      "text/html": [
       "<div>\n",
       "<style scoped>\n",
       "    .dataframe tbody tr th:only-of-type {\n",
       "        vertical-align: middle;\n",
       "    }\n",
       "\n",
       "    .dataframe tbody tr th {\n",
       "        vertical-align: top;\n",
       "    }\n",
       "\n",
       "    .dataframe thead th {\n",
       "        text-align: right;\n",
       "    }\n",
       "</style>\n",
       "<table border=\"1\" class=\"dataframe\">\n",
       "  <thead>\n",
       "    <tr style=\"text-align: right;\">\n",
       "      <th></th>\n",
       "      <th>user_id</th>\n",
       "      <th>month</th>\n",
       "      <th>gb_total</th>\n",
       "      <th>messages_count</th>\n",
       "      <th>calls_count</th>\n",
       "      <th>calls_minutes</th>\n",
       "      <th>plan</th>\n",
       "      <th>city</th>\n",
       "      <th>messages_included</th>\n",
       "      <th>gb_per_month_included</th>\n",
       "      <th>...</th>\n",
       "      <th>usd_monthly_pay</th>\n",
       "      <th>usd_per_gb</th>\n",
       "      <th>usd_per_message</th>\n",
       "      <th>usd_per_minute</th>\n",
       "      <th>plan_name</th>\n",
       "      <th>message_revenue</th>\n",
       "      <th>calls_revenue</th>\n",
       "      <th>internet_revenue</th>\n",
       "      <th>add_revenue</th>\n",
       "      <th>total_revenue</th>\n",
       "    </tr>\n",
       "  </thead>\n",
       "  <tbody>\n",
       "    <tr>\n",
       "      <td>0</td>\n",
       "      <td>1000</td>\n",
       "      <td>12</td>\n",
       "      <td>1.86</td>\n",
       "      <td>11</td>\n",
       "      <td>16</td>\n",
       "      <td>108</td>\n",
       "      <td>ultimate</td>\n",
       "      <td>Atlanta-Sandy Springs-Roswell, GA MSA</td>\n",
       "      <td>1000</td>\n",
       "      <td>30.0</td>\n",
       "      <td>...</td>\n",
       "      <td>70</td>\n",
       "      <td>7</td>\n",
       "      <td>0.01</td>\n",
       "      <td>0.01</td>\n",
       "      <td>ultimate</td>\n",
       "      <td>0.0</td>\n",
       "      <td>0.0</td>\n",
       "      <td>0</td>\n",
       "      <td>0.0</td>\n",
       "      <td>70.0</td>\n",
       "    </tr>\n",
       "    <tr>\n",
       "      <td>1</td>\n",
       "      <td>1006</td>\n",
       "      <td>11</td>\n",
       "      <td>2.02</td>\n",
       "      <td>15</td>\n",
       "      <td>2</td>\n",
       "      <td>8</td>\n",
       "      <td>ultimate</td>\n",
       "      <td>San Francisco-Oakland-Berkeley, CA MSA</td>\n",
       "      <td>1000</td>\n",
       "      <td>30.0</td>\n",
       "      <td>...</td>\n",
       "      <td>70</td>\n",
       "      <td>7</td>\n",
       "      <td>0.01</td>\n",
       "      <td>0.01</td>\n",
       "      <td>ultimate</td>\n",
       "      <td>0.0</td>\n",
       "      <td>0.0</td>\n",
       "      <td>0</td>\n",
       "      <td>0.0</td>\n",
       "      <td>70.0</td>\n",
       "    </tr>\n",
       "    <tr>\n",
       "      <td>2</td>\n",
       "      <td>1006</td>\n",
       "      <td>12</td>\n",
       "      <td>31.37</td>\n",
       "      <td>139</td>\n",
       "      <td>9</td>\n",
       "      <td>54</td>\n",
       "      <td>ultimate</td>\n",
       "      <td>San Francisco-Oakland-Berkeley, CA MSA</td>\n",
       "      <td>1000</td>\n",
       "      <td>30.0</td>\n",
       "      <td>...</td>\n",
       "      <td>70</td>\n",
       "      <td>7</td>\n",
       "      <td>0.01</td>\n",
       "      <td>0.01</td>\n",
       "      <td>ultimate</td>\n",
       "      <td>0.0</td>\n",
       "      <td>0.0</td>\n",
       "      <td>14</td>\n",
       "      <td>14.0</td>\n",
       "      <td>84.0</td>\n",
       "    </tr>\n",
       "    <tr>\n",
       "      <td>3</td>\n",
       "      <td>1008</td>\n",
       "      <td>10</td>\n",
       "      <td>16.71</td>\n",
       "      <td>21</td>\n",
       "      <td>71</td>\n",
       "      <td>439</td>\n",
       "      <td>ultimate</td>\n",
       "      <td>Orlando-Kissimmee-Sanford, FL MSA</td>\n",
       "      <td>1000</td>\n",
       "      <td>30.0</td>\n",
       "      <td>...</td>\n",
       "      <td>70</td>\n",
       "      <td>7</td>\n",
       "      <td>0.01</td>\n",
       "      <td>0.01</td>\n",
       "      <td>ultimate</td>\n",
       "      <td>0.0</td>\n",
       "      <td>0.0</td>\n",
       "      <td>0</td>\n",
       "      <td>0.0</td>\n",
       "      <td>70.0</td>\n",
       "    </tr>\n",
       "    <tr>\n",
       "      <td>4</td>\n",
       "      <td>1008</td>\n",
       "      <td>11</td>\n",
       "      <td>23.14</td>\n",
       "      <td>37</td>\n",
       "      <td>63</td>\n",
       "      <td>409</td>\n",
       "      <td>ultimate</td>\n",
       "      <td>Orlando-Kissimmee-Sanford, FL MSA</td>\n",
       "      <td>1000</td>\n",
       "      <td>30.0</td>\n",
       "      <td>...</td>\n",
       "      <td>70</td>\n",
       "      <td>7</td>\n",
       "      <td>0.01</td>\n",
       "      <td>0.01</td>\n",
       "      <td>ultimate</td>\n",
       "      <td>0.0</td>\n",
       "      <td>0.0</td>\n",
       "      <td>0</td>\n",
       "      <td>0.0</td>\n",
       "      <td>70.0</td>\n",
       "    </tr>\n",
       "  </tbody>\n",
       "</table>\n",
       "<p>5 rows × 21 columns</p>\n",
       "</div>"
      ],
      "text/plain": [
       "   user_id  month  gb_total  messages_count  calls_count  calls_minutes  \\\n",
       "0     1000     12      1.86              11           16            108   \n",
       "1     1006     11      2.02              15            2              8   \n",
       "2     1006     12     31.37             139            9             54   \n",
       "3     1008     10     16.71              21           71            439   \n",
       "4     1008     11     23.14              37           63            409   \n",
       "\n",
       "       plan                                    city  messages_included  \\\n",
       "0  ultimate   Atlanta-Sandy Springs-Roswell, GA MSA               1000   \n",
       "1  ultimate  San Francisco-Oakland-Berkeley, CA MSA               1000   \n",
       "2  ultimate  San Francisco-Oakland-Berkeley, CA MSA               1000   \n",
       "3  ultimate       Orlando-Kissimmee-Sanford, FL MSA               1000   \n",
       "4  ultimate       Orlando-Kissimmee-Sanford, FL MSA               1000   \n",
       "\n",
       "   gb_per_month_included  ...  usd_monthly_pay  usd_per_gb  usd_per_message  \\\n",
       "0                   30.0  ...               70           7             0.01   \n",
       "1                   30.0  ...               70           7             0.01   \n",
       "2                   30.0  ...               70           7             0.01   \n",
       "3                   30.0  ...               70           7             0.01   \n",
       "4                   30.0  ...               70           7             0.01   \n",
       "\n",
       "   usd_per_minute  plan_name message_revenue  calls_revenue  internet_revenue  \\\n",
       "0            0.01   ultimate             0.0            0.0                 0   \n",
       "1            0.01   ultimate             0.0            0.0                 0   \n",
       "2            0.01   ultimate             0.0            0.0                14   \n",
       "3            0.01   ultimate             0.0            0.0                 0   \n",
       "4            0.01   ultimate             0.0            0.0                 0   \n",
       "\n",
       "   add_revenue  total_revenue  \n",
       "0          0.0           70.0  \n",
       "1          0.0           70.0  \n",
       "2         14.0           84.0  \n",
       "3          0.0           70.0  \n",
       "4          0.0           70.0  \n",
       "\n",
       "[5 rows x 21 columns]"
      ]
     },
     "execution_count": 73,
     "metadata": {},
     "output_type": "execute_result"
    }
   ],
   "source": [
    "# Show aggregated table\n",
    "merge_final.head()"
   ]
  },
  {
   "cell_type": "markdown",
   "metadata": {},
   "source": [
    "## 3. Exploratory Data Analysis"
   ]
  },
  {
   "cell_type": "markdown",
   "metadata": {},
   "source": [
    "Let's analyze the behavior of customers based on the provided data. We will find out how many minutes of conversation, how many messages and how much Internet traffic is required by users of each plan per month."
   ]
  },
  {
   "cell_type": "markdown",
   "metadata": {},
   "source": [
    "**Data for Ultimate plan**"
   ]
  },
  {
   "cell_type": "code",
   "execution_count": 74,
   "metadata": {},
   "outputs": [
    {
     "data": {
      "text/html": [
       "<div>\n",
       "<style scoped>\n",
       "    .dataframe tbody tr th:only-of-type {\n",
       "        vertical-align: middle;\n",
       "    }\n",
       "\n",
       "    .dataframe tbody tr th {\n",
       "        vertical-align: top;\n",
       "    }\n",
       "\n",
       "    .dataframe thead th {\n",
       "        text-align: right;\n",
       "    }\n",
       "</style>\n",
       "<table border=\"1\" class=\"dataframe\">\n",
       "  <thead>\n",
       "    <tr style=\"text-align: right;\">\n",
       "      <th></th>\n",
       "      <th>gb_total</th>\n",
       "      <th>messages_count</th>\n",
       "      <th>calls_minutes</th>\n",
       "      <th>add_revenue</th>\n",
       "      <th>total_revenue</th>\n",
       "    </tr>\n",
       "  </thead>\n",
       "  <tbody>\n",
       "    <tr>\n",
       "      <td>count</td>\n",
       "      <td>579.000000</td>\n",
       "      <td>579.000000</td>\n",
       "      <td>579.000000</td>\n",
       "      <td>579.000000</td>\n",
       "      <td>579.000000</td>\n",
       "    </tr>\n",
       "    <tr>\n",
       "      <td>mean</td>\n",
       "      <td>16.852435</td>\n",
       "      <td>46.455959</td>\n",
       "      <td>405.303972</td>\n",
       "      <td>2.248705</td>\n",
       "      <td>72.248705</td>\n",
       "    </tr>\n",
       "    <tr>\n",
       "      <td>std</td>\n",
       "      <td>7.507548</td>\n",
       "      <td>32.930135</td>\n",
       "      <td>228.890783</td>\n",
       "      <td>11.034406</td>\n",
       "      <td>11.034406</td>\n",
       "    </tr>\n",
       "    <tr>\n",
       "      <td>min</td>\n",
       "      <td>0.280000</td>\n",
       "      <td>1.000000</td>\n",
       "      <td>2.000000</td>\n",
       "      <td>0.000000</td>\n",
       "      <td>70.000000</td>\n",
       "    </tr>\n",
       "    <tr>\n",
       "      <td>25%</td>\n",
       "      <td>12.410000</td>\n",
       "      <td>21.000000</td>\n",
       "      <td>239.000000</td>\n",
       "      <td>0.000000</td>\n",
       "      <td>70.000000</td>\n",
       "    </tr>\n",
       "    <tr>\n",
       "      <td>50%</td>\n",
       "      <td>16.480000</td>\n",
       "      <td>41.000000</td>\n",
       "      <td>388.000000</td>\n",
       "      <td>0.000000</td>\n",
       "      <td>70.000000</td>\n",
       "    </tr>\n",
       "    <tr>\n",
       "      <td>75%</td>\n",
       "      <td>20.400000</td>\n",
       "      <td>66.000000</td>\n",
       "      <td>529.000000</td>\n",
       "      <td>0.000000</td>\n",
       "      <td>70.000000</td>\n",
       "    </tr>\n",
       "    <tr>\n",
       "      <td>max</td>\n",
       "      <td>45.510000</td>\n",
       "      <td>166.000000</td>\n",
       "      <td>1252.000000</td>\n",
       "      <td>112.000000</td>\n",
       "      <td>182.000000</td>\n",
       "    </tr>\n",
       "  </tbody>\n",
       "</table>\n",
       "</div>"
      ],
      "text/plain": [
       "         gb_total  messages_count  calls_minutes  add_revenue  total_revenue\n",
       "count  579.000000      579.000000     579.000000   579.000000     579.000000\n",
       "mean    16.852435       46.455959     405.303972     2.248705      72.248705\n",
       "std      7.507548       32.930135     228.890783    11.034406      11.034406\n",
       "min      0.280000        1.000000       2.000000     0.000000      70.000000\n",
       "25%     12.410000       21.000000     239.000000     0.000000      70.000000\n",
       "50%     16.480000       41.000000     388.000000     0.000000      70.000000\n",
       "75%     20.400000       66.000000     529.000000     0.000000      70.000000\n",
       "max     45.510000      166.000000    1252.000000   112.000000     182.000000"
      ]
     },
     "execution_count": 74,
     "metadata": {},
     "output_type": "execute_result"
    }
   ],
   "source": [
    "# Let's select data with users who use the Ultimate plan\n",
    "plan_ultimate = merge_final.query('plan_name == \"ultimate\"')\n",
    "\n",
    "# Show descriptive statistics\n",
    "plan_ultimate[['gb_total','messages_count','calls_minutes','add_revenue', 'total_revenue']].describe()"
   ]
  },
  {
   "cell_type": "markdown",
   "metadata": {},
   "source": [
    "**On Ultimate plan** users on average use less than the plan provides. On average, a user needs 16.8 GB of traffic, 46.5 messages and 405 minutes of calls.\n",
    "**Average revenue from additional services** for this plan is very insignificant (~ 2.2$) because users have high enough package limits for calls and messages.\n",
    "\n",
    "However, there are some outliers with significant additional (112$) and total revenue which means that there are some customers who use mobile services very frequently. "
   ]
  },
  {
   "cell_type": "code",
   "execution_count": 75,
   "metadata": {},
   "outputs": [
    {
     "name": "stdout",
     "output_type": "stream",
     "text": [
      "Total revenue per year: 41832 $\n",
      "\n",
      "Show variance for the columns:\n",
      "gb_total             56.265928\n",
      "messages_count     1082.520945\n",
      "calls_minutes     52300.505183\n",
      "add_revenue         121.547818\n",
      "total_revenue       121.547818\n",
      "dtype: float64\n"
     ]
    }
   ],
   "source": [
    "# Let's calculate the total revenue from the Ultimate plan\n",
    "plan_ultimate_rev = plan_ultimate['total_revenue'].sum().astype(int)\n",
    "print('Total revenue per year:', plan_ultimate_rev, '$')\n",
    "\n",
    "# Show variance for the columns\n",
    "print('\\nShow variance for the columns:')\n",
    "print(np.var(plan_ultimate[['gb_total','messages_count','calls_minutes','add_revenue', 'total_revenue']]))"
   ]
  },
  {
   "cell_type": "markdown",
   "metadata": {},
   "source": [
    "**Build a histogram** for the selected variables for the Ultimate plan"
   ]
  },
  {
   "cell_type": "code",
   "execution_count": 76,
   "metadata": {},
   "outputs": [
    {
     "data": {
      "image/png": "[encoded data removed]",
      "text/plain": [
       "<Figure size 432x288 with 1 Axes>"
      ]
     },
     "metadata": {},
     "output_type": "display_data"
    },
    {
     "data": {
      "image/png": "[encoded data removed]",
      "text/plain": [
       "<Figure size 432x288 with 1 Axes>"
      ]
     },
     "metadata": {},
     "output_type": "display_data"
    },
    {
     "data": {
      "image/png": "[encoded data removed]",
      "text/plain": [
       "<Figure size 432x288 with 1 Axes>"
      ]
     },
     "metadata": {},
     "output_type": "display_data"
    },
    {
     "data": {
      "image/png": "[encoded data removed]",
      "text/plain": [
       "<Figure size 432x288 with 1 Axes>"
      ]
     },
     "metadata": {},
     "output_type": "display_data"
    },
    {
     "data": {
      "image/png": "[encoded data removed]",
      "text/plain": [
       "<Figure size 432x288 with 1 Axes>"
      ]
     },
     "metadata": {},
     "output_type": "display_data"
    }
   ],
   "source": [
    "features = ['gb_total','messages_count', 'calls_count','calls_minutes','add_revenue']\n",
    "for i in range(len(features)):\n",
    "    plan_ultimate[features[i]].hist(bins=50)\n",
    "    plt.xlabel(features[i])\n",
    "    plt.ylabel('Frequency')\n",
    "    plt.show()"
   ]
  },
  {
   "cell_type": "markdown",
   "metadata": {},
   "source": [
    "For most variables, we see a normal distribution. Only for the \"message\" variable we see a histogram with positive skewness, which may be a consequence of the use of social networks instead of regular messages. Histograms confirm a wide range of values. As mentioned before there are some outliers and unevenly distributed values."
   ]
  },
  {
   "cell_type": "markdown",
   "metadata": {},
   "source": [
    "**Let's build box plot** for the selected variables for the Ultimate plan"
   ]
  },
  {
   "cell_type": "code",
   "execution_count": 77,
   "metadata": {},
   "outputs": [
    {
     "data": {
      "image/png": "[encoded data removed]",
      "text/plain": [
       "<Figure size 648x504 with 1 Axes>"
      ]
     },
     "metadata": {},
     "output_type": "display_data"
    },
    {
     "data": {
      "image/png": "[encoded data removed]",
      "text/plain": [
       "<Figure size 648x504 with 1 Axes>"
      ]
     },
     "metadata": {},
     "output_type": "display_data"
    },
    {
     "data": {
      "image/png": "[encoded data removed]",
      "text/plain": [
       "<Figure size 648x504 with 1 Axes>"
      ]
     },
     "metadata": {},
     "output_type": "display_data"
    },
    {
     "data": {
      "image/png": "[encoded data removed]",
      "text/plain": [
       "<Figure size 648x504 with 1 Axes>"
      ]
     },
     "metadata": {},
     "output_type": "display_data"
    },
    {
     "data": {
      "image/png": "[encoded data removed]",
      "text/plain": [
       "<Figure size 648x504 with 1 Axes>"
      ]
     },
     "metadata": {},
     "output_type": "display_data"
    }
   ],
   "source": [
    "# Display in cycle multiple boxplots for various columns\n",
    "for i in range(len(features)):\n",
    "    fig = plt.figure(figsize=(9,7))\n",
    "    ax = fig.gca()\n",
    "    plan_ultimate.boxplot(column=features[i], ax=ax)\n",
    "    plt.show()"
   ]
  },
  {
   "cell_type": "markdown",
   "metadata": {},
   "source": [
    "Again, you can see that the behavior of some users is very different from the average. For example, with an average call duration (550 minutes), we see a strong variation from 0 to 1500 minutes. For a Ultimate plan, a scattered data could be potentially explained business customers.\n",
    "It can be assumed that increasing limits on messages or call minutes will not attract new customers as current limits are already sufficient enought. However, data package could be pottentially extended. \n",
    "Additionally, a new unlimited plan for business or premium customers could be proposed. "
   ]
  },
  {
   "cell_type": "markdown",
   "metadata": {},
   "source": [
    "**Data for Surf plan**"
   ]
  },
  {
   "cell_type": "code",
   "execution_count": 79,
   "metadata": {},
   "outputs": [
    {
     "data": {
      "text/html": [
       "<div>\n",
       "<style scoped>\n",
       "    .dataframe tbody tr th:only-of-type {\n",
       "        vertical-align: middle;\n",
       "    }\n",
       "\n",
       "    .dataframe tbody tr th {\n",
       "        vertical-align: top;\n",
       "    }\n",
       "\n",
       "    .dataframe thead th {\n",
       "        text-align: right;\n",
       "    }\n",
       "</style>\n",
       "<table border=\"1\" class=\"dataframe\">\n",
       "  <thead>\n",
       "    <tr style=\"text-align: right;\">\n",
       "      <th></th>\n",
       "      <th>gb_total</th>\n",
       "      <th>messages_count</th>\n",
       "      <th>calls_minutes</th>\n",
       "      <th>add_revenue</th>\n",
       "      <th>total_revenue</th>\n",
       "    </tr>\n",
       "  </thead>\n",
       "  <tbody>\n",
       "    <tr>\n",
       "      <td>count</td>\n",
       "      <td>1180.000000</td>\n",
       "      <td>1180.000000</td>\n",
       "      <td>1180.000000</td>\n",
       "      <td>1180.000000</td>\n",
       "      <td>1180.000000</td>\n",
       "    </tr>\n",
       "    <tr>\n",
       "      <td>mean</td>\n",
       "      <td>16.245119</td>\n",
       "      <td>39.489831</td>\n",
       "      <td>408.238136</td>\n",
       "      <td>39.809653</td>\n",
       "      <td>59.809653</td>\n",
       "    </tr>\n",
       "    <tr>\n",
       "      <td>std</td>\n",
       "      <td>7.534707</td>\n",
       "      <td>32.314360</td>\n",
       "      <td>215.704078</td>\n",
       "      <td>53.339322</td>\n",
       "      <td>53.339322</td>\n",
       "    </tr>\n",
       "    <tr>\n",
       "      <td>min</td>\n",
       "      <td>0.090000</td>\n",
       "      <td>1.000000</td>\n",
       "      <td>1.000000</td>\n",
       "      <td>0.000000</td>\n",
       "      <td>20.000000</td>\n",
       "    </tr>\n",
       "    <tr>\n",
       "      <td>25%</td>\n",
       "      <td>12.105000</td>\n",
       "      <td>16.000000</td>\n",
       "      <td>265.500000</td>\n",
       "      <td>0.000000</td>\n",
       "      <td>20.000000</td>\n",
       "    </tr>\n",
       "    <tr>\n",
       "      <td>50%</td>\n",
       "      <td>16.480000</td>\n",
       "      <td>32.000000</td>\n",
       "      <td>402.000000</td>\n",
       "      <td>20.405000</td>\n",
       "      <td>40.405000</td>\n",
       "    </tr>\n",
       "    <tr>\n",
       "      <td>75%</td>\n",
       "      <td>20.440000</td>\n",
       "      <td>53.000000</td>\n",
       "      <td>536.250000</td>\n",
       "      <td>60.000000</td>\n",
       "      <td>80.000000</td>\n",
       "    </tr>\n",
       "    <tr>\n",
       "      <td>max</td>\n",
       "      <td>69.280000</td>\n",
       "      <td>266.000000</td>\n",
       "      <td>1382.000000</td>\n",
       "      <td>567.880000</td>\n",
       "      <td>587.880000</td>\n",
       "    </tr>\n",
       "  </tbody>\n",
       "</table>\n",
       "</div>"
      ],
      "text/plain": [
       "          gb_total  messages_count  calls_minutes  add_revenue  total_revenue\n",
       "count  1180.000000     1180.000000    1180.000000  1180.000000    1180.000000\n",
       "mean     16.245119       39.489831     408.238136    39.809653      59.809653\n",
       "std       7.534707       32.314360     215.704078    53.339322      53.339322\n",
       "min       0.090000        1.000000       1.000000     0.000000      20.000000\n",
       "25%      12.105000       16.000000     265.500000     0.000000      20.000000\n",
       "50%      16.480000       32.000000     402.000000    20.405000      40.405000\n",
       "75%      20.440000       53.000000     536.250000    60.000000      80.000000\n",
       "max      69.280000      266.000000    1382.000000   567.880000     587.880000"
      ]
     },
     "execution_count": 79,
     "metadata": {},
     "output_type": "execute_result"
    }
   ],
   "source": [
    "# Highlight data with users who use Surf plan\n",
    "plan_surf = merge_final.query('plan_name == \"surf\"')\n",
    "\n",
    "# Show statistical description of the data\n",
    "plan_surf[['gb_total','messages_count','calls_minutes','add_revenue', 'total_revenue']].describe()"
   ]
  },
  {
   "cell_type": "markdown",
   "metadata": {},
   "source": [
    "**On the Surf plan** customers use on average almost all available traffic, messages and calls. On average, a user needs 16.2 GB of traffic, 39 messages and 408 minutes.\n",
    "**Average revenue from additional services** for this plan is significantly higher than from Ultimate (39.8$). Customers generally consume less on this plan than on Ultimate but buy more additional options.\n",
    "The deviations from the average values are less than in the Ultimate plan."
   ]
  },
  {
   "cell_type": "code",
   "execution_count": 80,
   "metadata": {},
   "outputs": [
    {
     "name": "stdout",
     "output_type": "stream",
     "text": [
      "Total revenue per year: 70575 $\n",
      "\n",
      "Show variance for the columns:\n",
      "gb_total             56.723698\n",
      "messages_count     1043.332947\n",
      "calls_minutes     46488.818715\n",
      "add_revenue        2842.672138\n",
      "total_revenue      2842.672138\n",
      "dtype: float64\n"
     ]
    }
   ],
   "source": [
    "# Calculate the total revenue from the plan\n",
    "plan_surf_rev = plan_surf['total_revenue'].sum().astype(int)\n",
    "print('Total revenue per year:', plan_surf_rev, '$')\n",
    "\n",
    "# Show variance of the columns\n",
    "print('\\nShow variance for the columns:')\n",
    "print(np.var(plan_surf[['gb_total','messages_count','calls_minutes','add_revenue', 'total_revenue']]))"
   ]
  },
  {
   "cell_type": "markdown",
   "metadata": {},
   "source": [
    "**Let's build histograms** for selected columns for the Surf Plan"
   ]
  },
  {
   "cell_type": "code",
   "execution_count": 81,
   "metadata": {},
   "outputs": [
    {
     "data": {
      "image/png": "[encoded data removed]",
      "text/plain": [
       "<Figure size 432x288 with 1 Axes>"
      ]
     },
     "metadata": {},
     "output_type": "display_data"
    },
    {
     "data": {
      "image/png": "[encoded data removed]",
      "text/plain": [
       "<Figure size 432x288 with 1 Axes>"
      ]
     },
     "metadata": {},
     "output_type": "display_data"
    },
    {
     "data": {
      "image/png": "[encoded data removed]",
      "text/plain": [
       "<Figure size 432x288 with 1 Axes>"
      ]
     },
     "metadata": {},
     "output_type": "display_data"
    },
    {
     "data": {
      "image/png": "[encoded data removed]",
      "text/plain": [
       "<Figure size 432x288 with 1 Axes>"
      ]
     },
     "metadata": {},
     "output_type": "display_data"
    },
    {
     "data": {
      "image/png": "[encoded data removed]",
      "text/plain": [
       "<Figure size 432x288 with 1 Axes>"
      ]
     },
     "metadata": {},
     "output_type": "display_data"
    }
   ],
   "source": [
    "for i in range(len(features)):\n",
    "    plan_surf[features[i]].hist(bins=50)\n",
    "    plt.xlabel(features[i])\n",
    "    plt.ylabel('Frequency')\n",
    "    plt.show()"
   ]
  },
  {
   "cell_type": "markdown",
   "metadata": {},
   "source": [
    "Again, for all variables except for the number of messages, we see a normal distribution. For revenue and messages, histograms have positive skew. The data is more evenly distributed compared to the data for the Ultimate plan. The reason may be, for example, a larger sample or more predictable user behavior (e.g lack of high check customers)."
   ]
  },
  {
   "cell_type": "code",
   "execution_count": 82,
   "metadata": {},
   "outputs": [
    {
     "data": {
      "image/png": "[encoded data removed]",
      "text/plain": [
       "<Figure size 648x504 with 1 Axes>"
      ]
     },
     "metadata": {},
     "output_type": "display_data"
    },
    {
     "data": {
      "image/png": "[encoded data removed]",
      "text/plain": [
       "<Figure size 648x504 with 1 Axes>"
      ]
     },
     "metadata": {},
     "output_type": "display_data"
    },
    {
     "data": {
      "image/png": "[encoded data removed]",
      "text/plain": [
       "<Figure size 648x504 with 1 Axes>"
      ]
     },
     "metadata": {},
     "output_type": "display_data"
    },
    {
     "data": {
      "image/png": "[encoded data removed]",
      "text/plain": [
       "<Figure size 648x504 with 1 Axes>"
      ]
     },
     "metadata": {},
     "output_type": "display_data"
    },
    {
     "data": {
      "image/png": "[encoded data removed]",
      "text/plain": [
       "<Figure size 648x504 with 1 Axes>"
      ]
     },
     "metadata": {},
     "output_type": "display_data"
    }
   ],
   "source": [
    "# Display in cycle multiple boxplots for various columns for plan Surf\n",
    "for i in range(len(features)):\n",
    "    fig = plt.figure(figsize=(9,7))\n",
    "    ax = fig.gca()\n",
    "    plan_surf.boxplot(column=features[i], ax=ax)\n",
    "    plt.show()"
   ]
  },
  {
   "cell_type": "markdown",
   "metadata": {},
   "source": [
    "Boxplots confirm normal distribution for variables in the dataset. It can be observed that there is a lower variability of observations comparing to the Ultimate plan. However, some outliers are still present."
   ]
  },
  {
   "cell_type": "markdown",
   "metadata": {},
   "source": [
    "## 4. Hypothesis testing"
   ]
  },
  {
   "cell_type": "markdown",
   "metadata": {},
   "source": [
    "**Let's formulate the first hypothesis:**\n",
    "\n",
    "**Zero H₀:** The average revenue from users of Ultimate and Surf plans is equal.\n",
    "\n",
    "**Alternative:** The average revenue of different plans is different.\n",
    "\n",
    "Our goal is to test the two-sided (since the change can be in any direction) **hypothesis of equality of two independent data sets**. We will take the generally accepted value of 5% (2.5% for each side) as statistical significance threshold. To test the hypothesis, we will use the scipy.stats.ttest_ind method, where the function arguments will be the monthly total revenue for each user of the surf and ultimate plans. Plan dispersions differ significantly due to the fact that the Surf plan has more revenue from sales of additional services. Therefore, the equal_val variable (which determines whether the variances of the samples are equal) will take the argument False."
   ]
  },
  {
   "cell_type": "code",
   "execution_count": 83,
   "metadata": {},
   "outputs": [
    {
     "name": "stdout",
     "output_type": "stream",
     "text": [
      "p-value:  2.944644852187461e-14\n",
      "Reject null hypothesis\n"
     ]
    }
   ],
   "source": [
    "interested_value = plan_ultimate['total_revenue'].mean()\n",
    "    \n",
    "alpha = .05 # statistical significance threshold \n",
    "    \n",
    "results = st.ttest_ind(\n",
    "    plan_surf['total_revenue'], \n",
    "    plan_ultimate['total_revenue'],\n",
    "    equal_var = False)  # Variances of data sets are different\n",
    "    \n",
    "print('p-value: ', results.pvalue)\n",
    "    \n",
    "if (results.pvalue < alpha):\n",
    "    print(\"Reject null hypothesis\")\n",
    "else:\n",
    "    print(\"Fail to reject the null hypothesis\")"
   ]
  },
  {
   "cell_type": "markdown",
   "metadata": {},
   "source": [
    "The null hypothesis was rejected. The probability that the revenue is approximately equal is significantly less than the level of statistical significance (2.5%). It can be concluded that the revenue from the two plans (Ultimate and Surf) is different."
   ]
  },
  {
   "cell_type": "markdown",
   "metadata": {},
   "source": [
    "**Let's formulate the second hypothesis:**\n",
    "\n",
    "**Null hypothesis H₀:** The average revenue from users in NY-NJ area is equal from that of the users from other regions.\n",
    "\n",
    "**Alternative hypothesis:** The average revenue from users in NY-NJ area is different from that of the users from other regions.\n",
    "\n",
    "As for the first situation, let us apply the **hypothesis that the means of two general populations are equal**. The first sample will contain data about users from NY-NJ and the second sample contains information about users from the regions."
   ]
  },
  {
   "cell_type": "code",
   "execution_count": 84,
   "metadata": {},
   "outputs": [],
   "source": [
    "# Select data with users from NY-NJ\n",
    "users_ny = merge_final.query('city == \"New York-Newark-Jersey City, NY-NJ-PA MSA\"')\n",
    "users_regions = merge_final.query('city != \"New York-Newark-Jersey City, NY-NJ-PA MSA\"')"
   ]
  },
  {
   "cell_type": "markdown",
   "metadata": {},
   "source": [
    "Compare the variance of the samples to determine the value of the equal_var variable."
   ]
  },
  {
   "cell_type": "code",
   "execution_count": 85,
   "metadata": {},
   "outputs": [
    {
     "name": "stdout",
     "output_type": "stream",
     "text": [
      "\n",
      "Show variance for NY-NJ customers:\n",
      "gb_total             51.118637\n",
      "messages_count      718.351588\n",
      "calls_minutes     36027.800850\n",
      "add_revenue        1542.012529\n",
      "total_revenue      1503.085100\n",
      "dtype: float64\n",
      "\n",
      "Show variance for customers from other regions:\n",
      "gb_total             57.697664\n",
      "messages_count     1122.754074\n",
      "calls_minutes     50722.084790\n",
      "add_revenue        2393.412577\n",
      "total_revenue      2062.144909\n",
      "dtype: float64\n"
     ]
    }
   ],
   "source": [
    "# Let's check if we can consider the variances of the general populations to be approximately equal\n",
    "print('\\nShow variance for NY-NJ customers:')\n",
    "print(np.var(users_ny[['gb_total','messages_count','calls_minutes','add_revenue', 'total_revenue']]))\n",
    "print('\\nShow variance for customers from other regions:')\n",
    "print(np.var(users_regions[['gb_total','messages_count','calls_minutes','add_revenue', 'total_revenue']]))"
   ]
  },
  {
   "cell_type": "code",
   "execution_count": 86,
   "metadata": {},
   "outputs": [
    {
     "name": "stdout",
     "output_type": "stream",
     "text": [
      "p-value:  0.009042383593135405\n",
      "Reject null hypothesis\n"
     ]
    }
   ],
   "source": [
    "alpha = .05 # statistical significance threshold \n",
    "    \n",
    "results = st.ttest_ind(\n",
    "    users_regions['total_revenue'], \n",
    "    users_ny['total_revenue'],\n",
    "    equal_var = True) # We will assume that the variances of the samples are approximately the same. \n",
    "    \n",
    "print('p-value: ', results.pvalue)\n",
    "    \n",
    "if (results.pvalue < alpha):\n",
    "    print(\"Reject null hypothesis\")\n",
    "else:\n",
    "    print(\"Fail to reject the null hypothesis\")"
   ]
  },
  {
   "cell_type": "markdown",
   "metadata": {},
   "source": [
    "The null hypothesis was rejected.  It can be concluded that the averege revenue is different between customers from NY-NJ and other regions."
   ]
  },
  {
   "cell_type": "markdown",
   "metadata": {},
   "source": [
    "## 5. Overall conclusion"
   ]
  },
  {
   "cell_type": "markdown",
   "metadata": {},
   "source": [
    "Let's build a pivot table where the average values of the variables for the city are sorted by additional revenue per month."
   ]
  },
  {
   "cell_type": "code",
   "execution_count": 87,
   "metadata": {},
   "outputs": [
    {
     "data": {
      "text/html": [
       "<div>\n",
       "<style scoped>\n",
       "    .dataframe tbody tr th:only-of-type {\n",
       "        vertical-align: middle;\n",
       "    }\n",
       "\n",
       "    .dataframe tbody tr th {\n",
       "        vertical-align: top;\n",
       "    }\n",
       "\n",
       "    .dataframe thead th {\n",
       "        text-align: right;\n",
       "    }\n",
       "</style>\n",
       "<table border=\"1\" class=\"dataframe\">\n",
       "  <thead>\n",
       "    <tr style=\"text-align: right;\">\n",
       "      <th></th>\n",
       "      <th></th>\n",
       "      <th>add_revenue</th>\n",
       "      <th>calls_minutes</th>\n",
       "      <th>gb_total</th>\n",
       "      <th>messages_count</th>\n",
       "      <th>total_revenue</th>\n",
       "    </tr>\n",
       "    <tr>\n",
       "      <th>city</th>\n",
       "      <th>plan_name</th>\n",
       "      <th></th>\n",
       "      <th></th>\n",
       "      <th></th>\n",
       "      <th></th>\n",
       "      <th></th>\n",
       "    </tr>\n",
       "  </thead>\n",
       "  <tbody>\n",
       "    <tr>\n",
       "      <td>Albany-Schenectady-Troy, NY MSA</td>\n",
       "      <td>surf</td>\n",
       "      <td>127.632000</td>\n",
       "      <td>446.800000</td>\n",
       "      <td>26.908000</td>\n",
       "      <td>85.200000</td>\n",
       "      <td>147.632000</td>\n",
       "    </tr>\n",
       "    <tr>\n",
       "      <td>Baton Rouge, LA MSA</td>\n",
       "      <td>surf</td>\n",
       "      <td>119.366154</td>\n",
       "      <td>658.230769</td>\n",
       "      <td>22.236154</td>\n",
       "      <td>19.538462</td>\n",
       "      <td>139.366154</td>\n",
       "    </tr>\n",
       "    <tr>\n",
       "      <td>Fresno, CA MSA</td>\n",
       "      <td>surf</td>\n",
       "      <td>113.009091</td>\n",
       "      <td>426.272727</td>\n",
       "      <td>25.176364</td>\n",
       "      <td>31.045455</td>\n",
       "      <td>133.009091</td>\n",
       "    </tr>\n",
       "    <tr>\n",
       "      <td>Bridgeport-Stamford-Norwalk, CT MSA</td>\n",
       "      <td>surf</td>\n",
       "      <td>102.952500</td>\n",
       "      <td>432.250000</td>\n",
       "      <td>24.710000</td>\n",
       "      <td>10.583333</td>\n",
       "      <td>122.952500</td>\n",
       "    </tr>\n",
       "    <tr>\n",
       "      <td>Urban Honolulu, HI MSA</td>\n",
       "      <td>surf</td>\n",
       "      <td>96.701500</td>\n",
       "      <td>441.300000</td>\n",
       "      <td>22.189000</td>\n",
       "      <td>44.300000</td>\n",
       "      <td>116.701500</td>\n",
       "    </tr>\n",
       "    <tr>\n",
       "      <td>St. Louis, MO-IL MSA</td>\n",
       "      <td>surf</td>\n",
       "      <td>82.913333</td>\n",
       "      <td>665.666667</td>\n",
       "      <td>15.576667</td>\n",
       "      <td>63.000000</td>\n",
       "      <td>102.913333</td>\n",
       "    </tr>\n",
       "    <tr>\n",
       "      <td>Orlando-Kissimmee-Sanford, FL MSA</td>\n",
       "      <td>surf</td>\n",
       "      <td>80.330000</td>\n",
       "      <td>318.875000</td>\n",
       "      <td>20.477500</td>\n",
       "      <td>42.250000</td>\n",
       "      <td>100.330000</td>\n",
       "    </tr>\n",
       "    <tr>\n",
       "      <td>North Port-Sarasota-Bradenton, FL MSA</td>\n",
       "      <td>surf</td>\n",
       "      <td>80.120000</td>\n",
       "      <td>471.000000</td>\n",
       "      <td>22.170000</td>\n",
       "      <td>54.000000</td>\n",
       "      <td>100.120000</td>\n",
       "    </tr>\n",
       "    <tr>\n",
       "      <td>Minneapolis-St. Paul-Bloomington, MN-WI MSA</td>\n",
       "      <td>surf</td>\n",
       "      <td>77.994400</td>\n",
       "      <td>669.640000</td>\n",
       "      <td>19.925200</td>\n",
       "      <td>106.200000</td>\n",
       "      <td>97.994400</td>\n",
       "    </tr>\n",
       "    <tr>\n",
       "      <td>Pittsburgh, PA MSA</td>\n",
       "      <td>surf</td>\n",
       "      <td>72.680000</td>\n",
       "      <td>487.000000</td>\n",
       "      <td>19.808000</td>\n",
       "      <td>20.000000</td>\n",
       "      <td>92.680000</td>\n",
       "    </tr>\n",
       "  </tbody>\n",
       "</table>\n",
       "</div>"
      ],
      "text/plain": [
       "                                                       add_revenue  \\\n",
       "city                                        plan_name                \n",
       "Albany-Schenectady-Troy, NY MSA             surf        127.632000   \n",
       "Baton Rouge, LA MSA                         surf        119.366154   \n",
       "Fresno, CA MSA                              surf        113.009091   \n",
       "Bridgeport-Stamford-Norwalk, CT MSA         surf        102.952500   \n",
       "Urban Honolulu, HI MSA                      surf         96.701500   \n",
       "St. Louis, MO-IL MSA                        surf         82.913333   \n",
       "Orlando-Kissimmee-Sanford, FL MSA           surf         80.330000   \n",
       "North Port-Sarasota-Bradenton, FL MSA       surf         80.120000   \n",
       "Minneapolis-St. Paul-Bloomington, MN-WI MSA surf         77.994400   \n",
       "Pittsburgh, PA MSA                          surf         72.680000   \n",
       "\n",
       "                                                       calls_minutes  \\\n",
       "city                                        plan_name                  \n",
       "Albany-Schenectady-Troy, NY MSA             surf          446.800000   \n",
       "Baton Rouge, LA MSA                         surf          658.230769   \n",
       "Fresno, CA MSA                              surf          426.272727   \n",
       "Bridgeport-Stamford-Norwalk, CT MSA         surf          432.250000   \n",
       "Urban Honolulu, HI MSA                      surf          441.300000   \n",
       "St. Louis, MO-IL MSA                        surf          665.666667   \n",
       "Orlando-Kissimmee-Sanford, FL MSA           surf          318.875000   \n",
       "North Port-Sarasota-Bradenton, FL MSA       surf          471.000000   \n",
       "Minneapolis-St. Paul-Bloomington, MN-WI MSA surf          669.640000   \n",
       "Pittsburgh, PA MSA                          surf          487.000000   \n",
       "\n",
       "                                                        gb_total  \\\n",
       "city                                        plan_name              \n",
       "Albany-Schenectady-Troy, NY MSA             surf       26.908000   \n",
       "Baton Rouge, LA MSA                         surf       22.236154   \n",
       "Fresno, CA MSA                              surf       25.176364   \n",
       "Bridgeport-Stamford-Norwalk, CT MSA         surf       24.710000   \n",
       "Urban Honolulu, HI MSA                      surf       22.189000   \n",
       "St. Louis, MO-IL MSA                        surf       15.576667   \n",
       "Orlando-Kissimmee-Sanford, FL MSA           surf       20.477500   \n",
       "North Port-Sarasota-Bradenton, FL MSA       surf       22.170000   \n",
       "Minneapolis-St. Paul-Bloomington, MN-WI MSA surf       19.925200   \n",
       "Pittsburgh, PA MSA                          surf       19.808000   \n",
       "\n",
       "                                                       messages_count  \\\n",
       "city                                        plan_name                   \n",
       "Albany-Schenectady-Troy, NY MSA             surf            85.200000   \n",
       "Baton Rouge, LA MSA                         surf            19.538462   \n",
       "Fresno, CA MSA                              surf            31.045455   \n",
       "Bridgeport-Stamford-Norwalk, CT MSA         surf            10.583333   \n",
       "Urban Honolulu, HI MSA                      surf            44.300000   \n",
       "St. Louis, MO-IL MSA                        surf            63.000000   \n",
       "Orlando-Kissimmee-Sanford, FL MSA           surf            42.250000   \n",
       "North Port-Sarasota-Bradenton, FL MSA       surf            54.000000   \n",
       "Minneapolis-St. Paul-Bloomington, MN-WI MSA surf           106.200000   \n",
       "Pittsburgh, PA MSA                          surf            20.000000   \n",
       "\n",
       "                                                       total_revenue  \n",
       "city                                        plan_name                 \n",
       "Albany-Schenectady-Troy, NY MSA             surf          147.632000  \n",
       "Baton Rouge, LA MSA                         surf          139.366154  \n",
       "Fresno, CA MSA                              surf          133.009091  \n",
       "Bridgeport-Stamford-Norwalk, CT MSA         surf          122.952500  \n",
       "Urban Honolulu, HI MSA                      surf          116.701500  \n",
       "St. Louis, MO-IL MSA                        surf          102.913333  \n",
       "Orlando-Kissimmee-Sanford, FL MSA           surf          100.330000  \n",
       "North Port-Sarasota-Bradenton, FL MSA       surf          100.120000  \n",
       "Minneapolis-St. Paul-Bloomington, MN-WI MSA surf           97.994400  \n",
       "Pittsburgh, PA MSA                          surf           92.680000  "
      ]
     },
     "execution_count": 87,
     "metadata": {},
     "output_type": "execute_result"
    }
   ],
   "source": [
    "merge_final.pivot_table(['gb_total','messages_count','calls_minutes','add_revenue', 'total_revenue'],\n",
    "               ['city', 'plan_name'], aggfunc='mean').sort_values(by='add_revenue', ascending=False).head(10)"
   ]
  },
  {
   "cell_type": "markdown",
   "metadata": {},
   "source": [
    "On the Surf plan, users spend more on additional services (calls and the Internet). At the same time, we see that customers from regions with Surf plan provide the highest additional and total revenue."
   ]
  },
  {
   "cell_type": "markdown",
   "metadata": {},
   "source": [
    "Two hypotheses have been tested, where it turned out that the average revenue from the Ultimate plan differs from the Surf plan. Due to additional purchases on the Surf plan, total revenue can fluctuate significantly.\n",
    "The second hypothesis that the average revenues from clients from the regions and NY-NJ are approximately equal has also been rejected. "
   ]
  },
  {
   "cell_type": "markdown",
   "metadata": {},
   "source": [
    "Let's build a pivot table with average values of variables for each plan."
   ]
  },
  {
   "cell_type": "code",
   "execution_count": 88,
   "metadata": {},
   "outputs": [
    {
     "data": {
      "text/html": [
       "<div>\n",
       "<style scoped>\n",
       "    .dataframe tbody tr th:only-of-type {\n",
       "        vertical-align: middle;\n",
       "    }\n",
       "\n",
       "    .dataframe tbody tr th {\n",
       "        vertical-align: top;\n",
       "    }\n",
       "\n",
       "    .dataframe thead th {\n",
       "        text-align: right;\n",
       "    }\n",
       "</style>\n",
       "<table border=\"1\" class=\"dataframe\">\n",
       "  <thead>\n",
       "    <tr style=\"text-align: right;\">\n",
       "      <th></th>\n",
       "      <th>add_revenue</th>\n",
       "      <th>calls_minutes</th>\n",
       "      <th>gb_total</th>\n",
       "      <th>messages_count</th>\n",
       "      <th>total_revenue</th>\n",
       "    </tr>\n",
       "    <tr>\n",
       "      <th>plan_name</th>\n",
       "      <th></th>\n",
       "      <th></th>\n",
       "      <th></th>\n",
       "      <th></th>\n",
       "      <th></th>\n",
       "    </tr>\n",
       "  </thead>\n",
       "  <tbody>\n",
       "    <tr>\n",
       "      <td>surf</td>\n",
       "      <td>39.809653</td>\n",
       "      <td>408.238136</td>\n",
       "      <td>16.245119</td>\n",
       "      <td>39.489831</td>\n",
       "      <td>59.809653</td>\n",
       "    </tr>\n",
       "    <tr>\n",
       "      <td>ultimate</td>\n",
       "      <td>2.248705</td>\n",
       "      <td>405.303972</td>\n",
       "      <td>16.852435</td>\n",
       "      <td>46.455959</td>\n",
       "      <td>72.248705</td>\n",
       "    </tr>\n",
       "  </tbody>\n",
       "</table>\n",
       "</div>"
      ],
      "text/plain": [
       "           add_revenue  calls_minutes   gb_total  messages_count  \\\n",
       "plan_name                                                          \n",
       "surf         39.809653     408.238136  16.245119       39.489831   \n",
       "ultimate      2.248705     405.303972  16.852435       46.455959   \n",
       "\n",
       "           total_revenue  \n",
       "plan_name                 \n",
       "surf           59.809653  \n",
       "ultimate       72.248705  "
      ]
     },
     "execution_count": 88,
     "metadata": {},
     "output_type": "execute_result"
    }
   ],
   "source": [
    "merge_final.pivot_table(['gb_total','messages_count','calls_minutes','add_revenue', 'total_revenue'],\n",
    "               ['plan_name'], aggfunc='mean')"
   ]
  },
  {
   "cell_type": "markdown",
   "metadata": {},
   "source": [
    "On average, a user of the Ultimate plan pays 12.45$ per month more than a customer on a Surf plan. But since there are more users of the Surf plan, the total revenue from the Surf plan is higher than from the Ultimate plan. At the same time, it could be challenging to attract new customers to the Ultimate plan due to the high price and not benefitial for the average customer package limits. Ultimate plan may be interesting only for people who on average exceeds Surf package limis or have a high volatility of this consumption per month.\n",
    "\n",
    "The Surf plan generally brings more additional revenue than the Ultimate plan. In this case, the advertising campaign for the Ultimate plan can be aimed at attracting business customers, while the main advertising budget can be used for the Surf plan."
   ]
  }
 ],
 "metadata": {
  "kernelspec": {
   "display_name": "Python 3",
   "language": "python",
   "name": "python3"
  },
  "language_info": {
   "codemirror_mode": {
    "name": "ipython",
    "version": 3
   },
   "file_extension": ".py",
   "mimetype": "text/x-python",
   "name": "python",
   "nbconvert_exporter": "python",
   "pygments_lexer": "ipython3",
   "version": "3.7.4"
  }
 },
 "nbformat": 4,
 "nbformat_minor": 2
}
